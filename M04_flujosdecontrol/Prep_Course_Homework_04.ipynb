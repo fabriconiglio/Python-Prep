{
 "cells": [
  {
   "attachments": {},
   "cell_type": "markdown",
   "metadata": {},
   "source": [
    "## Flujos de Control"
   ]
  },
  {
   "attachments": {},
   "cell_type": "markdown",
   "metadata": {},
   "source": [
    "1) Crear una variable que contenga un elemento del conjunto de números enteros y luego imprimir por pantalla si es mayor o menor a cero"
   ]
  },
  {
   "cell_type": "code",
   "execution_count": 14,
   "metadata": {},
   "outputs": [
    {
     "name": "stdout",
     "output_type": "stream",
     "text": [
      "a is a positive number\n"
     ]
    }
   ],
   "source": [
    "a = 10\n",
    "if a > 0:\n",
    "    print(\"a is a positive number\")\n",
    "else:\n",
    "    print(\"a is a negative number\")"
   ]
  },
  {
   "attachments": {},
   "cell_type": "markdown",
   "metadata": {},
   "source": [
    "2) Crear dos variables y un condicional que informe si son del mismo tipo de dato"
   ]
  },
  {
   "cell_type": "code",
   "execution_count": 16,
   "metadata": {},
   "outputs": [
    {
     "name": "stdout",
     "output_type": "stream",
     "text": [
      "b and c are not equal\n"
     ]
    }
   ],
   "source": [
    "b = 10\n",
    "c = '10'\n",
    "\n",
    "if b == c:\n",
    "    print(\"b and c are equal\")\n",
    "else:\n",
    "    print(\"b and c are not equal\")"
   ]
  },
  {
   "attachments": {},
   "cell_type": "markdown",
   "metadata": {},
   "source": [
    "3) Para los valores enteros del 1 al 20, imprimir por pantalla si es par o impar"
   ]
  },
  {
   "cell_type": "code",
   "execution_count": 19,
   "metadata": {},
   "outputs": [
    {
     "name": "stdout",
     "output_type": "stream",
     "text": [
      "1 es impar\n",
      "2 es par\n",
      "3 es impar\n",
      "4 es par\n",
      "5 es impar\n",
      "6 es par\n",
      "7 es impar\n",
      "8 es par\n",
      "9 es impar\n",
      "10 es par\n",
      "11 es impar\n",
      "12 es par\n",
      "13 es impar\n",
      "14 es par\n",
      "15 es impar\n",
      "16 es par\n",
      "17 es impar\n",
      "18 es par\n",
      "19 es impar\n",
      "20 es par\n"
     ]
    }
   ],
   "source": [
    "for i in range (1,21):\n",
    "    if i % 2 == 0:\n",
    "        print( i, 'es par')\n",
    "    else:\n",
    "        print(i, 'es impar')\n"
   ]
  },
  {
   "attachments": {},
   "cell_type": "markdown",
   "metadata": {},
   "source": [
    "4) En un ciclo for mostrar para los valores entre 0 y 5 el resultado de elevarlo a la potencia igual a 3"
   ]
  },
  {
   "cell_type": "code",
   "execution_count": 21,
   "metadata": {},
   "outputs": [
    {
     "name": "stdout",
     "output_type": "stream",
     "text": [
      "0\n",
      "1\n",
      "8\n",
      "27\n",
      "64\n",
      "125\n"
     ]
    }
   ],
   "source": [
    "for i in range (0,6):\n",
    "    print(i**3)"
   ]
  },
  {
   "attachments": {},
   "cell_type": "markdown",
   "metadata": {},
   "source": [
    "5) Crear una variable que contenga un número entero y realizar un ciclo for la misma cantidad de ciclos"
   ]
  },
  {
   "cell_type": "code",
   "execution_count": 23,
   "metadata": {},
   "outputs": [
    {
     "name": "stdout",
     "output_type": "stream",
     "text": [
      "0\n",
      "1\n",
      "2\n",
      "3\n",
      "4\n",
      "5\n",
      "6\n",
      "7\n",
      "8\n",
      "9\n"
     ]
    }
   ],
   "source": [
    "entero = 10\n",
    "for i in range(0,entero):\n",
    "    pass\n",
    "    print(i)"
   ]
  },
  {
   "attachments": {},
   "cell_type": "markdown",
   "metadata": {},
   "source": [
    "6) Utilizar un ciclo while para realizar el factorial de un número guardado en una variable, sólo si la variable contiene un número entero mayor a 0"
   ]
  },
  {
   "cell_type": "code",
   "execution_count": 25,
   "metadata": {},
   "outputs": [
    {
     "name": "stdout",
     "output_type": "stream",
     "text": [
      "El factorial de 5 es: 120\n"
     ]
    }
   ],
   "source": [
    "numero = int(input(\"Ingrese un número entero mayor que 0 para calcular su factorial: \"))\n",
    "\n",
    "# Verificar si el número ingresado es mayor que 0\n",
    "if numero > 0:\n",
    "    factorial = 1\n",
    "    contador = 1\n",
    "\n",
    "    # Calcular factorial usando un ciclo while\n",
    "    while contador <= numero:\n",
    "        factorial *= contador\n",
    "        contador += 1\n",
    "\n",
    "    print(f\"El factorial de {numero} es: {factorial}\")\n",
    "else:\n",
    "    print(\"El número ingresado no es mayor que 0. Intente de nuevo.\")\n"
   ]
  },
  {
   "attachments": {},
   "cell_type": "markdown",
   "metadata": {},
   "source": [
    "7) Crear un ciclo for dentro de un ciclo while"
   ]
  },
  {
   "cell_type": "code",
   "execution_count": 28,
   "metadata": {},
   "outputs": [
    {
     "name": "stdout",
     "output_type": "stream",
     "text": [
      "1\n",
      "2\n",
      "3\n",
      "4\n",
      "5\n",
      "1\n",
      "2\n",
      "3\n",
      "4\n",
      "5\n",
      "1\n",
      "2\n",
      "3\n",
      "4\n",
      "5\n",
      "1\n",
      "2\n",
      "3\n",
      "4\n",
      "5\n",
      "1\n",
      "2\n",
      "3\n",
      "4\n",
      "5\n"
     ]
    }
   ],
   "source": [
    "numero = 5\n",
    "\n",
    "while numero > 0:\n",
    "    for i in range(1,10):\n",
    "        print(i)\n",
    "        if i == 5:\n",
    "            break\n",
    "    numero -= 1"
   ]
  },
  {
   "attachments": {},
   "cell_type": "markdown",
   "metadata": {},
   "source": [
    "8) Crear un ciclo while dentro de un ciclo for"
   ]
  },
  {
   "cell_type": "code",
   "execution_count": 30,
   "metadata": {},
   "outputs": [
    {
     "name": "stdout",
     "output_type": "stream",
     "text": [
      "1\n",
      "2\n",
      "3\n",
      "4\n"
     ]
    }
   ],
   "source": [
    "for i in range(1,10):\n",
    "    while i < 5:\n",
    "        print(i)\n",
    "        i += 1\n",
    "    break"
   ]
  },
  {
   "attachments": {},
   "cell_type": "markdown",
   "metadata": {},
   "source": [
    "9) Imprimir los números primos existentes entre 0 y 30"
   ]
  },
  {
   "cell_type": "code",
   "execution_count": 34,
   "metadata": {},
   "outputs": [
    {
     "name": "stdout",
     "output_type": "stream",
     "text": [
      "2 es un número primo\n",
      "3 es un número primo\n",
      "5 es un número primo\n",
      "7 es un número primo\n",
      "11 es un número primo\n",
      "13 es un número primo\n",
      "17 es un número primo\n",
      "19 es un número primo\n",
      "23 es un número primo\n",
      "29 es un número primo\n"
     ]
    }
   ],
   "source": [
    "tope_numero = 30\n",
    "numero = 0\n",
    "primo = True\n",
    "while numero < tope_numero:\n",
    "    if numero < 2:\n",
    "        primo = False\n",
    "    else:\n",
    "        for i in range(2,numero):\n",
    "            if numero % i == 0:\n",
    "                primo = False\n",
    "                break\n",
    "    if primo:\n",
    "        print(f\"{numero} es un número primo\")\n",
    "    else:\n",
    "        primo = True\n",
    "    numero += 1\n"
   ]
  },
  {
   "attachments": {},
   "cell_type": "markdown",
   "metadata": {},
   "source": [
    "10) ¿Se puede mejorar el proceso del punto 9? Utilizar las sentencias break y/ó continue para tal fin"
   ]
  },
  {
   "cell_type": "code",
   "execution_count": 35,
   "metadata": {},
   "outputs": [
    {
     "name": "stdout",
     "output_type": "stream",
     "text": [
      "2 es un número primo\n",
      "3 es un número primo\n",
      "5 es un número primo\n",
      "7 es un número primo\n",
      "11 es un número primo\n",
      "13 es un número primo\n",
      "17 es un número primo\n",
      "19 es un número primo\n",
      "23 es un número primo\n",
      "29 es un número primo\n"
     ]
    }
   ],
   "source": [
    "tope_numero = 30\n",
    "numero = 0\n",
    "\n",
    "while numero < tope_numero:\n",
    "    primo = True\n",
    "\n",
    "    if numero < 2:\n",
    "        primo = False\n",
    "    else:\n",
    "        for i in range(2, numero):\n",
    "            if numero % i == 0:\n",
    "                primo = False\n",
    "                break  # Salir del bucle si encuentra un divisor\n",
    "\n",
    "    if primo:\n",
    "        print(f\"{numero} es un número primo\")\n",
    "    else:\n",
    "       primo = True\n",
    "\n",
    "    numero += 1\n"
   ]
  },
  {
   "attachments": {},
   "cell_type": "markdown",
   "metadata": {},
   "source": [
    "11) En los puntos 9 y 10, se diseño un código que encuentra números primos y además se lo optimizó. ¿Es posible saber en qué medida se optimizó?"
   ]
  },
  {
   "cell_type": "code",
   "execution_count": null,
   "metadata": {},
   "outputs": [],
   "source": []
  },
  {
   "attachments": {},
   "cell_type": "markdown",
   "metadata": {},
   "source": [
    "12) Aplicando continue, armar un ciclo while que solo imprima los valores divisibles por 12, dentro del rango de números de 100 a 300"
   ]
  },
  {
   "cell_type": "code",
   "execution_count": 36,
   "metadata": {},
   "outputs": [
    {
     "name": "stdout",
     "output_type": "stream",
     "text": [
      "108 es divisible por 12\n",
      "120 es divisible por 12\n",
      "132 es divisible por 12\n",
      "144 es divisible por 12\n",
      "156 es divisible por 12\n",
      "168 es divisible por 12\n",
      "180 es divisible por 12\n",
      "192 es divisible por 12\n",
      "204 es divisible por 12\n",
      "216 es divisible por 12\n",
      "228 es divisible por 12\n",
      "240 es divisible por 12\n",
      "252 es divisible por 12\n",
      "264 es divisible por 12\n",
      "276 es divisible por 12\n",
      "288 es divisible por 12\n",
      "300 es divisible por 12\n"
     ]
    }
   ],
   "source": [
    "numero = 100\n",
    "top_numero = 300\n",
    "while numero <= top_numero:\n",
    "    if numero % 12 == 0:\n",
    "        print(f\"{numero} es divisible por 12\")\n",
    "    else:\n",
    "        numero += 1\n",
    "        continue\n",
    "    numero += 1"
   ]
  },
  {
   "attachments": {},
   "cell_type": "markdown",
   "metadata": {},
   "source": [
    "13) Utilizar la función **input()** que permite hacer ingresos por teclado, para encontrar números primos y dar la opción al usario de buscar el siguiente"
   ]
  },
  {
   "cell_type": "code",
   "execution_count": 39,
   "metadata": {},
   "outputs": [
    {
     "name": "stdout",
     "output_type": "stream",
     "text": [
      "5 es un número primo\n"
     ]
    }
   ],
   "source": [
    "while True:\n",
    "    numero = int(input(\"Ingrese un número entero positivo: \"))\n",
    "    \n",
    "    if numero <=1:\n",
    "        print(\"Ingrese un número entero positivo mayor que 1\")\n",
    "        continue\n",
    "    \n",
    "    es_primo = True\n",
    "    for i in range(2, numero):\n",
    "        if numero % i == 0:\n",
    "            es_primo = False\n",
    "            break\n",
    "    if es_primo:\n",
    "        print(f\"{numero} es un número primo\")\n",
    "    else:\n",
    "        print(f\"{numero} no es un número primo\")\n",
    "\n",
    "    opcion = input(\"¿Desea continuar? (s/n): \")\n",
    "    if opcion.lower() != \"s\":\n",
    "        break"
   ]
  },
  {
   "attachments": {},
   "cell_type": "markdown",
   "metadata": {},
   "source": [
    "14) Crear un ciclo while que encuentre dentro del rango de 100 a 300 el primer número divisible por 3 y además múltiplo de 6"
   ]
  },
  {
   "cell_type": "code",
   "execution_count": 13,
   "metadata": {},
   "outputs": [
    {
     "name": "stdout",
     "output_type": "stream",
     "text": [
      "El primer número divisible por 3 y múltiplo de 6 en el rango es: 102\n"
     ]
    }
   ],
   "source": [
    "numero = 100\n",
    "\n",
    "while numero <= 300:\n",
    "    if numero % 3 == 0 and numero % 6 == 0:\n",
    "        print(f\"El primer número divisible por 3 y múltiplo de 6 en el rango es: {numero}\")\n",
    "        break\n",
    "    numero += 1\n"
   ]
  }
 ],
 "metadata": {
  "interpreter": {
   "hash": "c85384e4cb51c8b72350f3a8712cc8351fdc3955e32a27f9b60c6242ab125f01"
  },
  "kernelspec": {
   "display_name": "Python 3 (ipykernel)",
   "language": "python",
   "name": "python3"
  },
  "language_info": {
   "codemirror_mode": {
    "name": "ipython",
    "version": 3
   },
   "file_extension": ".py",
   "mimetype": "text/x-python",
   "name": "python",
   "nbconvert_exporter": "python",
   "pygments_lexer": "ipython3",
   "version": "3.10.0"
  }
 },
 "nbformat": 4,
 "nbformat_minor": 4
}
