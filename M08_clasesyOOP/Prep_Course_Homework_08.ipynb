{
 "cells": [
  {
   "attachments": {},
   "cell_type": "markdown",
   "metadata": {},
   "source": [
    "## Clases y Programación Orientada a Objetos"
   ]
  },
  {
   "attachments": {},
   "cell_type": "markdown",
   "metadata": {},
   "source": [
    "1) Crear la clase vehículo que contenga los atributos:<br>\n",
    "Color<br>\n",
    "Si es moto, auto, camioneta ó camión<br>\n",
    "Cilindrada del motor"
   ]
  },
  {
   "cell_type": "code",
   "execution_count": 1,
   "metadata": {},
   "outputs": [],
   "source": [
    "class Vehiculo:\n",
    "    def __init__(self,color,tipo,cilindraje):\n",
    "        self.color = color\n",
    "        self.tipo = tipo\n",
    "        self.cilindraje = cilindraje"
   ]
  },
  {
   "attachments": {},
   "cell_type": "markdown",
   "metadata": {},
   "source": [
    "2) A la clase Vehiculo creada en el punto 1, agregar los siguientes métodos:<br>\n",
    "Acelerar<br>\n",
    "Frenar<br>\n",
    "Doblar<br>"
   ]
  },
  {
   "cell_type": "code",
   "execution_count": 3,
   "metadata": {},
   "outputs": [],
   "source": [
    "class Vehiculo:\n",
    "    def __init__(self,color,tipo,cilindraje):\n",
    "        self.color = color\n",
    "        self.tipo = tipo\n",
    "        self.cilindraje = cilindraje\n",
    "        self.velocidad = 0\n",
    "        self.direction = 0\n",
    "\n",
    "    def acelerar(self):\n",
    "        print(\"Acelerando\")\n",
    "\n",
    "    def frenar(self):\n",
    "        print(\"Frenando\")\n",
    "\n",
    "    def doblar(self):\n",
    "        print(\"Doblando\")"
   ]
  },
  {
   "attachments": {},
   "cell_type": "markdown",
   "metadata": {},
   "source": [
    "3) Instanciar 3 objetos de la clase vehículo y ejecutar sus métodos, probar luego el resultado"
   ]
  },
  {
   "cell_type": "code",
   "execution_count": 4,
   "metadata": {},
   "outputs": [
    {
     "name": "stdout",
     "output_type": "stream",
     "text": [
      "Acelerando\n",
      "None\n",
      "Frenando\n",
      "None\n",
      "Doblando\n",
      "None\n",
      "Acelerando\n",
      "None\n",
      "Frenando\n",
      "None\n",
      "Doblando\n",
      "None\n",
      "Acelerando\n",
      "None\n",
      "Frenando\n",
      "None\n",
      "Doblando\n",
      "None\n"
     ]
    }
   ],
   "source": [
    "auto = Vehiculo(\"Rojo\",\"Sedan\",2000)\n",
    "print(auto.acelerar())\n",
    "print(auto.frenar())\n",
    "print(auto.doblar())\n",
    "\n",
    "moto = Vehiculo(\"azul\",\"Deportiva\",600)\n",
    "print(moto.acelerar())\n",
    "print(moto.frenar())\n",
    "print(moto.doblar())\n",
    "\n",
    "camion = Vehiculo(\"Blanco\",\"Carga\",5000)\n",
    "print(camion.acelerar())\n",
    "print(camion.frenar())\n",
    "print(camion.doblar())"
   ]
  },
  {
   "attachments": {},
   "cell_type": "markdown",
   "metadata": {},
   "source": [
    "4) Agregar a la clase Vehiculo, un método que muestre su estado, es decir, a que velocidad se encuentra y su dirección. Y otro método que muestre color, tipo y cilindrada"
   ]
  },
  {
   "cell_type": "code",
   "execution_count": 7,
   "metadata": {},
   "outputs": [
    {
     "name": "stdout",
     "output_type": "stream",
     "text": [
      "Tengo una velocidad de 0 y voy en la direccion 0\n"
     ]
    }
   ],
   "source": [
    "class Vehiculo:\n",
    "    def __init__(self,color,tipo,cilindraje):\n",
    "        self.color = color\n",
    "        self.tipo = tipo\n",
    "        self.cilindraje = cilindraje\n",
    "        self.velocidad = 0\n",
    "        self.direction = 0\n",
    "\n",
    "    def acelerar(self,velocidad):\n",
    "        self.velocidad = velocidad\n",
    "        print(f\"Acelerando a {self.velocidad}\")\n",
    "\n",
    "    def frenar(self):\n",
    "        self.velocidad = 0\n",
    "        print(\"Frenando\")\n",
    "\n",
    "    def doblar(self):\n",
    "        print(\"Doblando\")\n",
    "\n",
    "    def estado(self):\n",
    "        print(f\"Tengo una velocidad de {self.velocidad} y voy en la direccion {self.direction}\")\n",
    "    \n",
    "    def caracteristicas(self):\n",
    "        print(f\"Mi vehiculo es de color {self.color}, es un {self.tipo} y tiene un cilindraje de {self.cilindraje}\")\n",
    "\n",
    "auto = Vehiculo(\"Rojo\",\"Sedan\",2000)\n",
    "auto.estado()\n",
    "auto.caracteristicas()"
   ]
  },
  {
   "attachments": {},
   "cell_type": "markdown",
   "metadata": {},
   "source": [
    "5) Crear una clase que permita utilizar las funciones creadas en la práctica del módulo 7<br>\n",
    "Verificar Primo<br>\n",
    "Valor modal<br>\n",
    "Conversión grados<br>\n",
    "Factorial<br>"
   ]
  },
  {
   "cell_type": "code",
   "execution_count": 10,
   "metadata": {},
   "outputs": [],
   "source": [
    "class Herramientas:\n",
    "\n",
    "    def __init__(self)-> None:\n",
    "        pass\n",
    "\n",
    "    def esPrimo (self, numero):\n",
    "        if numero < 2:\n",
    "            return False\n",
    "        if numero == 2:\n",
    "            return True\n",
    "        for i in range(2, numero):\n",
    "            if numero % i == 0:\n",
    "                return False\n",
    "        return True\n",
    "\n",
    "\n",
    "    def numerosMasRepetidos (self,lista):\n",
    "\n",
    "        if len(lista) == 0:\n",
    "            return None\n",
    "\n",
    "        contador = {}\n",
    "\n",
    "        for i in lista:\n",
    "            if i in contador:\n",
    "                contador[i] += 1\n",
    "            else:\n",
    "                contador[i] = 1\n",
    "\n",
    "        maximo = max(contador, key=contador.get)\n",
    "        repeticiones_max = contador[maximo]\n",
    "\n",
    "        return maximo, repeticiones_max\n",
    "\n",
    "    def convertidor_de_grados (self,valor, unidad_origen, unidad_destino):\n",
    "        # C = (F - 32) * 5/9\n",
    "        # F = (C * 9/5) + 32\n",
    "        # K = C + 273.15\n",
    "        # C = K - 273.15\n",
    "        # F = K * 9/5 - 459.67\n",
    "        # K = (F + 459.67) * 5/9\n",
    "        if unidad_origen == \"C\" and unidad_destino == \"F\":\n",
    "            return (valor * 9/5) + 32\n",
    "        elif unidad_origen == \"C\" and unidad_destino == \"K\":\n",
    "            return valor + 273.15\n",
    "        elif unidad_origen == \"F\" and unidad_destino == \"C\":\n",
    "            return (valor - 32) * 5/9\n",
    "        elif unidad_origen == \"F\" and unidad_destino == \"K\":\n",
    "            return (valor + 459.67) * 5/9\n",
    "        elif unidad_origen == \"K\" and unidad_destino == \"C\":\n",
    "            return valor - 273.15\n",
    "        elif unidad_origen == \"K\" and unidad_destino == \"F\":\n",
    "            return valor * 9/5 - 459.67\n",
    "        else:\n",
    "            return valor\n",
    "        \n",
    "    def factorial (self,numero):\n",
    "        if numero < 0:\n",
    "            return None\n",
    "        if type(numero) != int:\n",
    "            return None\n",
    "        if numero == 0:\n",
    "            return \"El factorial de 0 es 1\"\n",
    "        for i in range(1, numero):\n",
    "            numero *= i\n",
    "\n",
    "        return numero\n",
    "\n"
   ]
  },
  {
   "attachments": {},
   "cell_type": "markdown",
   "metadata": {},
   "source": [
    "6) Probar las funciones incorporadas en la clase del punto 5"
   ]
  },
  {
   "cell_type": "code",
   "execution_count": 14,
   "metadata": {},
   "outputs": [
    {
     "name": "stdout",
     "output_type": "stream",
     "text": [
      "True\n",
      "(1, 6)\n",
      "212.0\n",
      "120\n"
     ]
    }
   ],
   "source": [
    "herramientas = Herramientas()\n",
    "\n",
    "print(herramientas.esPrimo(7))\n",
    "print(herramientas.numerosMasRepetidos([1,2,3,4,5,6,7,8,9,1,2,3,4,5,6,7,1,2,3,4,1,2,3,1,2,1]))\n",
    "print(herramientas.convertidor_de_grados(100,\"C\",\"F\"))\n",
    "print(herramientas.factorial(5))"
   ]
  },
  {
   "attachments": {},
   "cell_type": "markdown",
   "metadata": {},
   "source": [
    "7) Es necesario que la clase creada en el punto 5 contenga una lista, sobre la cual se apliquen las funciones incorporadas"
   ]
  },
  {
   "cell_type": "code",
   "execution_count": null,
   "metadata": {},
   "outputs": [],
   "source": [
    "class Herramientas:\n",
    "\n",
    "    def __init__(self,lista):\n",
    "        self.lista_numeros = lista\n",
    "\n",
    "    \n",
    "    def listaPrimos (self):\n",
    "        for i in self.lista_numeros:\n",
    "            if self.esPrimo(i):\n",
    "                print(\"El numero\", i, \"es primo\")\n",
    "            else:\n",
    "                print(\"El numero\", i, \"no es primo\")\n",
    "\n",
    "    def esPrimo (self, numero):\n",
    "        if numero < 2:\n",
    "            return False\n",
    "        if numero == 2:\n",
    "            return True\n",
    "        for i in range(2, numero):\n",
    "            if numero % i == 0:\n",
    "                return False\n",
    "        return True\n",
    "\n",
    "\n",
    "    def numerosMasRepetidos (self):\n",
    "\n",
    "        if len(self.lista_numeros) == 0:\n",
    "            return None\n",
    "\n",
    "        contador = {}\n",
    "\n",
    "        for i in self.lista_numeros:\n",
    "            if i in contador:\n",
    "                contador[i] += 1\n",
    "            else:\n",
    "                contador[i] = 1\n",
    "\n",
    "        maximo = max(contador, key=contador.get)\n",
    "        repeticiones_max = contador[maximo]\n",
    "\n",
    "        return maximo, repeticiones_max\n",
    "    \n",
    "\n",
    "    def convertidor_de_grados_lista (self,unidad_origen, unidad_destino):\n",
    "        lista_convertida = []\n",
    "        for i in self.lista_numeros:\n",
    "            lista_convertida.append(self.convertidor_de_grados(i,unidad_origen,unidad_destino))\n",
    "        return lista_convertida\n",
    "\n",
    "    def convertidor_de_grados (self,valor, unidad_origen, unidad_destino):\n",
    "        # C = (F - 32) * 5/9\n",
    "        # F = (C * 9/5) + 32\n",
    "        # K = C + 273.15\n",
    "        # C = K - 273.15\n",
    "        # F = K * 9/5 - 459.67\n",
    "        # K = (F + 459.67) * 5/9\n",
    "        if unidad_origen == \"C\" and unidad_destino == \"F\":\n",
    "            return (valor * 9/5) + 32\n",
    "        elif unidad_origen == \"C\" and unidad_destino == \"K\":\n",
    "            return valor + 273.15\n",
    "        elif unidad_origen == \"F\" and unidad_destino == \"C\":\n",
    "            return (valor - 32) * 5/9\n",
    "        elif unidad_origen == \"F\" and unidad_destino == \"K\":\n",
    "            return (valor + 459.67) * 5/9\n",
    "        elif unidad_origen == \"K\" and unidad_destino == \"C\":\n",
    "            return valor - 273.15\n",
    "        elif unidad_origen == \"K\" and unidad_destino == \"F\":\n",
    "            return valor * 9/5 - 459.67\n",
    "        else:\n",
    "            return valor\n",
    "        \n",
    "\n",
    "    def factorial_lista (self):\n",
    "        lista_factoriales = []\n",
    "        for i in self.lista_numeros:\n",
    "            lista_factoriales.append(self.factorial(i))\n",
    "        return lista_factoriales\n",
    "        \n",
    "    def factorial (self,numero):\n",
    "        if numero < 0:\n",
    "            return None\n",
    "        if type(numero) != int:\n",
    "            return None\n",
    "        if numero == 0:\n",
    "            return \"El factorial de 0 es 1\"\n",
    "        for i in range(1, numero):\n",
    "            numero *= i\n",
    "\n",
    "        return numero"
   ]
  },
  {
   "attachments": {},
   "cell_type": "markdown",
   "metadata": {},
   "source": [
    "8) Crear un archivo .py aparte y ubicar allí la clase generada en el punto anterior. Luego realizar la importación del módulo y probar alguna de sus funciones"
   ]
  },
  {
   "cell_type": "code",
   "execution_count": 16,
   "metadata": {},
   "outputs": [
    {
     "data": {
      "text/plain": [
       "[1, 2, 6, 24, 120, 720, 5040, 40320, 362880, 3628800]"
      ]
     },
     "execution_count": 16,
     "metadata": {},
     "output_type": "execute_result"
    }
   ],
   "source": [
    "from herramientas_nuevas import *\n",
    "\n",
    "herramientas = Herramientas([1,2,3,4,5,6,7,8,9,10])\n",
    "\n",
    "herramientas.factorial_lista()"
   ]
  }
 ],
 "metadata": {
  "interpreter": {
   "hash": "c85384e4cb51c8b72350f3a8712cc8351fdc3955e32a27f9b60c6242ab125f01"
  },
  "kernelspec": {
   "display_name": "Python 3 (ipykernel)",
   "language": "python",
   "name": "python3"
  },
  "language_info": {
   "codemirror_mode": {
    "name": "ipython",
    "version": 3
   },
   "file_extension": ".py",
   "mimetype": "text/x-python",
   "name": "python",
   "nbconvert_exporter": "python",
   "pygments_lexer": "ipython3",
   "version": "3.10.12"
  }
 },
 "nbformat": 4,
 "nbformat_minor": 4
}
