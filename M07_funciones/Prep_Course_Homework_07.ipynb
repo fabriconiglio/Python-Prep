{
 "cells": [
  {
   "attachments": {},
   "cell_type": "markdown",
   "metadata": {},
   "source": [
    "## Funciones"
   ]
  },
  {
   "attachments": {},
   "cell_type": "markdown",
   "metadata": {},
   "source": [
    "1) Crear una función que reciba un número como parámetro y devuelva True si es primo y False si no lo es"
   ]
  },
  {
   "cell_type": "code",
   "execution_count": 2,
   "metadata": {},
   "outputs": [
    {
     "name": "stdout",
     "output_type": "stream",
     "text": [
      "No es primo\n"
     ]
    }
   ],
   "source": [
    "def esPrimo (numero):\n",
    "    if numero < 2:\n",
    "        return False\n",
    "    if numero == 2:\n",
    "        return True\n",
    "    for i in range(2, numero):\n",
    "        if numero % i == 0:\n",
    "            return False\n",
    "    return True\n",
    "\n",
    "numero = int(input(\"Introduce un número: \"))\n",
    "if esPrimo(numero):\n",
    "    print(\"Es primo\")\n",
    "else:\n",
    "    print(\"No es primo\")\n"
   ]
  },
  {
   "attachments": {},
   "cell_type": "markdown",
   "metadata": {},
   "source": [
    "2) Utilizando la función del punto 1, realizar otra función que reciba de parámetro una lista de números y devuelva sólo aquellos que son primos en otra lista"
   ]
  },
  {
   "cell_type": "code",
   "execution_count": 3,
   "metadata": {},
   "outputs": [
    {
     "name": "stdout",
     "output_type": "stream",
     "text": [
      "[2, 3, 5, 7]\n"
     ]
    }
   ],
   "source": [
    "def listaPrimos (lista):\n",
    "    listaPrimos = []\n",
    "    for i in lista:\n",
    "        if esPrimo(i):\n",
    "            listaPrimos.append(i)\n",
    "    return listaPrimos\n",
    "\n",
    "lista = [1, 2, 3, 4, 5, 6, 7, 8, 9, 10]\n",
    "print(listaPrimos(lista))"
   ]
  },
  {
   "attachments": {},
   "cell_type": "markdown",
   "metadata": {},
   "source": [
    "3) Crear una función que al recibir una lista de números, devuelva el que más se repite y cuántas veces lo hace. Si hay más de un \"más repetido\", que devuelva cualquiera"
   ]
  },
  {
   "cell_type": "code",
   "execution_count": 4,
   "metadata": {},
   "outputs": [
    {
     "name": "stdout",
     "output_type": "stream",
     "text": [
      "(1, 11)\n"
     ]
    }
   ],
   "source": [
    "def numerosMasRepetidos (lista):\n",
    "\n",
    "    if len(lista) == 0:\n",
    "        return None\n",
    "\n",
    "    contador = {}\n",
    "\n",
    "    for i in lista:\n",
    "        if i in contador:\n",
    "            contador[i] += 1\n",
    "        else:\n",
    "            contador[i] = 1\n",
    "\n",
    "    maximo = max(contador, key=contador.get)\n",
    "    repeticiones_max = contador[maximo]\n",
    "\n",
    "    return maximo, repeticiones_max\n",
    "\n",
    "lista = [1, 2, 3, 4, 5, 6, 7, 8, 9, 10, 1, 1, 1, 1, 1, 1, 1, 1, 1, 1]\n",
    "print(numerosMasRepetidos(lista))"
   ]
  },
  {
   "attachments": {},
   "cell_type": "markdown",
   "metadata": {},
   "source": [
    "4) Crear una función que convierta entre grados Celsius, Farenheit y Kelvin<br>\n",
    "Fórmula 1\t: (°C × 9/5) + 32 = °F<br>\n",
    "Fórmula 2\t: °C + 273.15 = °K<br>\n",
    "Debe recibir 3 parámetros: el valor, la medida de orígen y la medida de destino\n"
   ]
  },
  {
   "cell_type": "code",
   "execution_count": 5,
   "metadata": {},
   "outputs": [
    {
     "name": "stdout",
     "output_type": "stream",
     "text": [
      "212.0\n"
     ]
    }
   ],
   "source": [
    "def convertidor_de_grados (valor, unidad_origen, unidad_destino):\n",
    "    # C = (F - 32) * 5/9\n",
    "    # F = (C * 9/5) + 32\n",
    "    # K = C + 273.15\n",
    "    # C = K - 273.15\n",
    "    # F = K * 9/5 - 459.67\n",
    "    # K = (F + 459.67) * 5/9\n",
    "    if unidad_origen == \"C\" and unidad_destino == \"F\":\n",
    "        return (valor * 9/5) + 32\n",
    "    elif unidad_origen == \"C\" and unidad_destino == \"K\":\n",
    "        return valor + 273.15\n",
    "    elif unidad_origen == \"F\" and unidad_destino == \"C\":\n",
    "        return (valor - 32) * 5/9\n",
    "    elif unidad_origen == \"F\" and unidad_destino == \"K\":\n",
    "        return (valor + 459.67) * 5/9\n",
    "    elif unidad_origen == \"K\" and unidad_destino == \"C\":\n",
    "        return valor - 273.15\n",
    "    elif unidad_origen == \"K\" and unidad_destino == \"F\":\n",
    "        return valor * 9/5 - 459.67\n",
    "    else:\n",
    "        return valor\n",
    "    \n",
    "print(convertidor_de_grados(100, \"C\", \"F\"))"
   ]
  },
  {
   "attachments": {},
   "cell_type": "markdown",
   "metadata": {},
   "source": [
    "5) Iterando una lista con los tres valores posibles de temperatura que recibe la función del punto 5, hacer un print para cada combinación de los mismos:"
   ]
  },
  {
   "cell_type": "code",
   "execution_count": 8,
   "metadata": {},
   "outputs": [
    {
     "name": "stdout",
     "output_type": "stream",
     "text": [
      "100 C son 100 C\n",
      "100 C son 212.0 F\n",
      "100 C son 373.15 K\n",
      "100 F son 37.77777777777778 C\n",
      "100 F son 100 F\n",
      "100 F son 310.9277777777778 K\n",
      "100 K son -173.14999999999998 C\n",
      "100 K son -279.67 F\n",
      "100 K son 100 K\n"
     ]
    }
   ],
   "source": [
    "metricas = [\"C\", \"F\", \"K\"]\n",
    "for i in metricas:\n",
    "    for j in metricas:\n",
    "        print(f\"100 {i} son {convertidor_de_grados(100, i, j)} {j}\")"
   ]
  },
  {
   "attachments": {},
   "cell_type": "markdown",
   "metadata": {},
   "source": [
    "6) Armar una función que devuelva el factorial de un número. Tener en cuenta que el usuario puede equivocarse y enviar de parámetro un número no entero o negativo"
   ]
  },
  {
   "cell_type": "code",
   "execution_count": 7,
   "metadata": {},
   "outputs": [
    {
     "name": "stdout",
     "output_type": "stream",
     "text": [
      "120\n"
     ]
    }
   ],
   "source": [
    "def factorial (numero):\n",
    "    if numero < 0:\n",
    "        return None\n",
    "    if type(numero) != int:\n",
    "        return None\n",
    "    if numero == 0:\n",
    "        return \"El factorial de 0 es 1\"\n",
    "    for i in range(1, numero):\n",
    "        numero *= i\n",
    "\n",
    "    return numero\n",
    "\n",
    "print(factorial(5))"
   ]
  }
 ],
 "metadata": {
  "interpreter": {
   "hash": "c85384e4cb51c8b72350f3a8712cc8351fdc3955e32a27f9b60c6242ab125f01"
  },
  "kernelspec": {
   "display_name": "Python 3 (ipykernel)",
   "language": "python",
   "name": "python3"
  },
  "language_info": {
   "codemirror_mode": {
    "name": "ipython",
    "version": 3
   },
   "file_extension": ".py",
   "mimetype": "text/x-python",
   "name": "python",
   "nbconvert_exporter": "python",
   "pygments_lexer": "ipython3",
   "version": "3.10.0"
  }
 },
 "nbformat": 4,
 "nbformat_minor": 4
}
